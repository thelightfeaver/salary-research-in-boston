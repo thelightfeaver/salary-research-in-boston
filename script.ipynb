{
 "cells": [
  {
   "cell_type": "code",
   "execution_count": 127,
   "metadata": {},
   "outputs": [
    {
     "name": "stdout",
     "output_type": "stream",
     "text": [
      "Requirement already satisfied: pandas in c:\\users\\diogenes monegro\\appdata\\local\\programs\\python\\python311\\lib\\site-packages (2.1.0)Note: you may need to restart the kernel to use updated packages.\n",
      "\n",
      "Requirement already satisfied: numpy>=1.23.2 in c:\\users\\diogenes monegro\\appdata\\local\\programs\\python\\python311\\lib\\site-packages (from pandas) (1.26.0)\n",
      "Requirement already satisfied: python-dateutil>=2.8.2 in c:\\users\\diogenes monegro\\appdata\\roaming\\python\\python311\\site-packages (from pandas) (2.8.2)\n",
      "Requirement already satisfied: pytz>=2020.1 in c:\\users\\diogenes monegro\\appdata\\local\\programs\\python\\python311\\lib\\site-packages (from pandas) (2023.3.post1)\n",
      "Requirement already satisfied: tzdata>=2022.1 in c:\\users\\diogenes monegro\\appdata\\local\\programs\\python\\python311\\lib\\site-packages (from pandas) (2023.3)\n",
      "Requirement already satisfied: six>=1.5 in c:\\users\\diogenes monegro\\appdata\\local\\programs\\python\\python311\\lib\\site-packages (from python-dateutil>=2.8.2->pandas) (1.16.0)\n"
     ]
    },
    {
     "name": "stderr",
     "output_type": "stream",
     "text": [
      "\n",
      "[notice] A new release of pip is available: 23.2.1 -> 23.3.1\n",
      "[notice] To update, run: python.exe -m pip install --upgrade pip\n"
     ]
    },
    {
     "name": "stdout",
     "output_type": "stream",
     "text": [
      "Requirement already satisfied: matplotlib in c:\\users\\diogenes monegro\\appdata\\local\\programs\\python\\python311\\lib\\site-packages (3.8.0)\n",
      "Requirement already satisfied: contourpy>=1.0.1 in c:\\users\\diogenes monegro\\appdata\\local\\programs\\python\\python311\\lib\\site-packages (from matplotlib) (1.1.1)\n",
      "Requirement already satisfied: cycler>=0.10 in c:\\users\\diogenes monegro\\appdata\\local\\programs\\python\\python311\\lib\\site-packages (from matplotlib) (0.11.0)\n",
      "Requirement already satisfied: fonttools>=4.22.0 in c:\\users\\diogenes monegro\\appdata\\local\\programs\\python\\python311\\lib\\site-packages (from matplotlib) (4.42.1)\n",
      "Requirement already satisfied: kiwisolver>=1.0.1 in c:\\users\\diogenes monegro\\appdata\\local\\programs\\python\\python311\\lib\\site-packages (from matplotlib) (1.4.5)\n",
      "Requirement already satisfied: numpy<2,>=1.21 in c:\\users\\diogenes monegro\\appdata\\local\\programs\\python\\python311\\lib\\site-packages (from matplotlib) (1.26.0)\n",
      "Requirement already satisfied: packaging>=20.0 in c:\\users\\diogenes monegro\\appdata\\local\\programs\\python\\python311\\lib\\site-packages (from matplotlib) (23.1)\n",
      "Requirement already satisfied: pillow>=6.2.0 in c:\\users\\diogenes monegro\\appdata\\local\\programs\\python\\python311\\lib\\site-packages (from matplotlib) (10.0.1)\n",
      "Requirement already satisfied: pyparsing>=2.3.1 in c:\\users\\diogenes monegro\\appdata\\local\\programs\\python\\python311\\lib\\site-packages (from matplotlib) (3.1.1)\n",
      "Requirement already satisfied: python-dateutil>=2.7 in c:\\users\\diogenes monegro\\appdata\\roaming\\python\\python311\\site-packages (from matplotlib) (2.8.2)\n",
      "Requirement already satisfied: six>=1.5 in c:\\users\\diogenes monegro\\appdata\\local\\programs\\python\\python311\\lib\\site-packages (from python-dateutil>=2.7->matplotlib) (1.16.0)\n",
      "Note: you may need to restart the kernel to use updated packages.\n"
     ]
    },
    {
     "name": "stderr",
     "output_type": "stream",
     "text": [
      "\n",
      "[notice] A new release of pip is available: 23.2.1 -> 23.3.1\n",
      "[notice] To update, run: python.exe -m pip install --upgrade pip\n"
     ]
    }
   ],
   "source": [
    "%pip install pandas\n",
    "%pip install matplotlib"
   ]
  },
  {
   "cell_type": "code",
   "execution_count": 128,
   "metadata": {},
   "outputs": [],
   "source": [
    "import pandas as pd\n",
    "from pprint import pprint"
   ]
  },
  {
   "cell_type": "code",
   "execution_count": 129,
   "metadata": {},
   "outputs": [],
   "source": [
    "# load data\n",
    "df_main = pd.read_csv('./data/employee-earnings-report-2011.csv')\n",
    "\n"
   ]
  },
  {
   "cell_type": "code",
   "execution_count": 130,
   "metadata": {},
   "outputs": [
    {
     "name": "stdout",
     "output_type": "stream",
     "text": [
      "                    Department Name                      Title  Regular  \\\n",
      "0              Assessing Department     Property Officer (Asn)    33065   \n",
      "1      ASD Office Of Labor Relation      Asst Corp Counsel III    76051   \n",
      "2      Transportation-Parking Clerk  Chief Claims Investigator    56430   \n",
      "3             Boston Public Library        Spec Library Asst I    35058   \n",
      "4                    Law Department                 Prin Clerk    41588   \n",
      "...                             ...                        ...      ...   \n",
      "20504         Boston Public Schools                    Teacher    87696   \n",
      "20505         Boston Public Schools         Substitute Teacher    26366   \n",
      "20506         Boston Public Schools         Substitute Teacher     1942   \n",
      "20507         Boston Public Schools                    Teacher    64210   \n",
      "20508         Boston Public Schools                  Developer    94466   \n",
      "\n",
      "       Retro  Other  Overtime  Injured  Detail  Quinn  Total Earnings  \n",
      "0          0      0       379        0       0      0           33444  \n",
      "1          0   1321         0        0       0      0           77372  \n",
      "2          0      0       418        0       0      0           56849  \n",
      "3          0      0       439        0       0      0           35497  \n",
      "4          0      0         0        0       0      0           41588  \n",
      "...      ...    ...       ...      ...     ...    ...             ...  \n",
      "20504      0   2366         0        0       0      0           90062  \n",
      "20505      0   2474         0        0       0      0           28840  \n",
      "20506      0      0         0        0       0      0            1942  \n",
      "20507      0      0         0        0       0      0           64210  \n",
      "20508      0      0         0        0       0      0           94466  \n",
      "\n",
      "[20509 rows x 10 columns]\n"
     ]
    }
   ],
   "source": [
    "# delete columns zip code and name\n",
    "df_main = df_main.drop(columns=['Zip Code', 'Name'])\n",
    "\n",
    "# List comlumns should be cleaned\n",
    "list_columns = ['Total Earnings', 'Regular', 'Retro', 'Other', 'Overtime', 'Injured', 'Detail', 'Quinn']\n",
    "\n",
    "# all columns\n",
    "# df[column_name] = df[column_name].str.replace('[+-]', '', regex=True)\n",
    "\n",
    "# clean columns\n",
    "for column in list_columns:\n",
    "    df_main[column].fillna(\"0.0\", inplace=True)\n",
    "    df_main[column] = df_main[column].str.replace('$', '')\n",
    "    df_main[column] = df_main[column].str.replace(',', '')\n",
    "    df_main[column] = df_main[column].str.replace(')','') if df_main[column].str.contains(')', regex=False).any() else df_main[column] \n",
    "    df_main[column] = df_main[column].str.replace('(','') if df_main[column].str.contains('(', regex=False).any() else df_main[column] \n",
    "    df_main[column] = df_main[column].str.split('.', expand=True)[0]\n",
    "    df_main[column] = df_main[column].astype(int)\n",
    "\n",
    "\n",
    "pprint(df_main)\n"
   ]
  },
  {
   "cell_type": "code",
   "execution_count": null,
   "metadata": {},
   "outputs": [],
   "source": []
  }
 ],
 "metadata": {
  "kernelspec": {
   "display_name": "Python 3",
   "language": "python",
   "name": "python3"
  },
  "language_info": {
   "codemirror_mode": {
    "name": "ipython",
    "version": 3
   },
   "file_extension": ".py",
   "mimetype": "text/x-python",
   "name": "python",
   "nbconvert_exporter": "python",
   "pygments_lexer": "ipython3",
   "version": "3.11.3"
  }
 },
 "nbformat": 4,
 "nbformat_minor": 2
}
